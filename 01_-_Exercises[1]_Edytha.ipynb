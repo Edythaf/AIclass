{
 "cells": [
  {
   "cell_type": "markdown",
   "id": "7e9ec432",
   "metadata": {},
   "source": [
    "Create a variable named `abc` and assign it the value `-3.5`.\n",
    "\n",
    "Create another variable named `xyz` and assign it the value `7e-1`.\n",
    "\n",
    "Add the two variables together.\n",
    "\n",
    "Divide `abc` by `xyz`."
   ]
  },
  {
   "cell_type": "code",
   "execution_count": 1,
   "id": "958a4f2e",
   "metadata": {},
   "outputs": [
    {
     "name": "stdout",
     "output_type": "stream",
     "text": [
      "-2.8\n",
      "-2.4499999999999997\n"
     ]
    }
   ],
   "source": [
    "# add your code below\n",
    "abc = -3.5\n",
    "xyz = 7e-1\n",
    "print( abc + xyz)\n",
    "print( abc * xyz)"
   ]
  },
  {
   "cell_type": "markdown",
   "id": "2fb819b3",
   "metadata": {},
   "source": [
    "Use `if` and `else` to print `True` if `a` is an even number, and `False` if otherwise.\n",
    "\n",
    "You may want to use the `%` (modulo) operator. It gives the reminder when one number is divided by another."
   ]
  },
  {
   "cell_type": "code",
   "execution_count": 16,
   "id": "79e08318",
   "metadata": {},
   "outputs": [
    {
     "name": "stdout",
     "output_type": "stream",
     "text": [
      "True\n"
     ]
    }
   ],
   "source": [
    "a = 4\n",
    "y = a % 2 \n",
    "z = True\n",
    "x = False\n",
    "# add your code below\n",
    "if y == 1: \n",
    "    print(x)\n",
    "else: \n",
    "    print(z)"
   ]
  },
  {
   "cell_type": "markdown",
   "id": "786569cd",
   "metadata": {},
   "source": [
    "Assume `doses` contains the monthly dose of a radiation worker.\n",
    "\n",
    "Create code that will **loop** through the array, and return the total dose."
   ]
  },
  {
   "cell_type": "code",
   "execution_count": 11,
   "id": "ca69d98a",
   "metadata": {},
   "outputs": [
    {
     "name": "stdout",
     "output_type": "stream",
     "text": [
      "Total doses is 3.5\n"
     ]
    }
   ],
   "source": [
    "doses = [0.9, 0.1, 0.5, 1.7, 0.3]\n",
    "# add your code below\n",
    "def total_dose(doses):\n",
    "    total = 0 \n",
    "    for dose in doses:\n",
    "        total += dose\n",
    "    return total\n",
    "print(\"Total doses is\", total_dose(doses))"
   ]
  },
  {
   "cell_type": "markdown",
   "id": "9cbe373e",
   "metadata": {},
   "source": [
    "The dictionary `D` contains the yearly occupational dose limits in mSv for different organs.\n",
    "\n",
    "Assuming `organ` is the target organ of interest, and `dose` is the equivalent dose in mSv, write code to get the appropriate dose limit from `D` and print a message if the dose limit was exceeded."
   ]
  },
  {
   "cell_type": "code",
   "execution_count": 26,
   "id": "0fd00b3a",
   "metadata": {},
   "outputs": [
    {
     "name": "stdout",
     "output_type": "stream",
     "text": [
      "450 mSV for skin is OK\n"
     ]
    }
   ],
   "source": [
    "D = {\"eye\": 50, \"skin\": 500, \"hands_feet\": 500}\n",
    "organ = \"skin\"\n",
    "dose = 450\n",
    "# add your code below\n",
    "if dose <= D[organ]:\n",
    "    print(f\"{dose} mSV for {organ} is OK\")\n",
    "else: \n",
    "    print(f\"{dose}mSV exceeds {organ} dose limit!!\")\n",
    "\n"
   ]
  },
  {
   "cell_type": "markdown",
   "id": "3d687d93",
   "metadata": {},
   "source": [
    "Take the code above and convert it to a function below.\n",
    "\n",
    "The function should have two inputs: the target organ, and the equivalent dose.\n",
    "\n",
    "The function should return `True` if the dose limit was exceeded, or `False` otherwise."
   ]
  },
  {
   "cell_type": "code",
   "execution_count": 30,
   "id": "940781bd",
   "metadata": {},
   "outputs": [
    {
     "name": "stdout",
     "output_type": "stream",
     "text": [
      "40 mSV for eye is OK\n",
      "True\n"
     ]
    }
   ],
   "source": [
    "def checkDoseLimit(organ,dose):\n",
    "    D = {\"eye\": 50, \"skin\": 500, \"hands_feet\": 500}\n",
    "    # add your code below\n",
    "    if dose <= D[organ]:\n",
    "        print(f\"{dose} mSV for {organ} is OK\")\n",
    "        return True\n",
    "    else: \n",
    "        print(f\"{dose}mSV exceeds {organ} dose limit!!\")\n",
    "        return False\n",
    "print(checkDoseLimit(\"eye\", 40))\n",
    "    "
   ]
  },
  {
   "cell_type": "code",
   "execution_count": null,
   "id": "e343f350",
   "metadata": {},
   "outputs": [],
   "source": []
  }
 ],
 "metadata": {
  "kernelspec": {
   "display_name": "Belajarpython",
   "language": "python",
   "name": "python3"
  },
  "language_info": {
   "codemirror_mode": {
    "name": "ipython",
    "version": 3
   },
   "file_extension": ".py",
   "mimetype": "text/x-python",
   "name": "python",
   "nbconvert_exporter": "python",
   "pygments_lexer": "ipython3",
   "version": "3.11.9"
  }
 },
 "nbformat": 4,
 "nbformat_minor": 5
}
