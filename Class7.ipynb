{
 "cells": [
  {
   "cell_type": "markdown",
   "id": "3275951e",
   "metadata": {},
   "source": [
    "Inspired by genomic. Radiomics : extraction and analysis of quantitative features fro medical images. IBSI v1 ~= 170, 3 major categories : First order, texture, shape"
   ]
  },
  {
   "cell_type": "code",
   "execution_count": null,
   "id": "69ceebee",
   "metadata": {},
   "outputs": [],
   "source": [
    "import numpy as np \n",
    "import matplotlib.pyplot as plt\n",
    "D = np.load(\"C:/Users/HP/OneDrive/Documents/Study/AI/AIclass/mnist.npz\")\n",
    "trn_lbls = D[\"train_labels\"][::10] # just use 10% data\n",
    "trn_imgs = D[\"train_imgs\"][::10]\n",
    "idx = trn_lbls <= 1\n",
    "lbls = trn_lbls[idx]\n",
    "imgs = trn_imgs[idx]"
   ]
  },
  {
   "cell_type": "code",
   "execution_count": null,
   "id": "9b95b68e",
   "metadata": {},
   "outputs": [],
   "source": [
    "import SimpleITK as sitk #image processing library\n",
    "from radiomics import featureextractor\n",
    "\n",
    "extractor = featureextractor.RadiomicsFeatureExtractor()\n",
    "extractor.disableAllFeatures()\n",
    "extractor.enableFeatureClassByName(\"shape2D\") #calculate the 2D shape features"
   ]
  },
  {
   "cell_type": "code",
   "execution_count": 5,
   "id": "4a579300",
   "metadata": {},
   "outputs": [
    {
     "data": {
      "text/plain": [
       "<matplotlib.image.AxesImage at 0x22747759a30>"
      ]
     },
     "execution_count": 5,
     "metadata": {},
     "output_type": "execute_result"
    },
    {
     "data": {
      "image/png": "[encoded data removed]",
      "text/plain": [
       "<Figure size 640x480 with 2 Axes>"
      ]
     },
     "metadata": {},
     "output_type": "display_data"
    }
   ],
   "source": [
    "img = imgs[8]\n",
    "msk = img < 128\n",
    "_, (ax1, ax2) = plt.subplots(ncols = 2)\n",
    "ax1.imshow(img, cmap = \"gray\")\n",
    "ax2.imshow(msk)"
   ]
  },
  {
   "cell_type": "code",
   "execution_count": 6,
   "id": "b053acd0",
   "metadata": {},
   "outputs": [
    {
     "name": "stdout",
     "output_type": "stream",
     "text": [
      "diagnostics_Versions_PyRadiomics\n",
      "diagnostics_Versions_Numpy\n",
      "diagnostics_Versions_SimpleITK\n",
      "diagnostics_Versions_PyWavelet\n",
      "diagnostics_Versions_Python\n",
      "diagnostics_Configuration_Settings\n",
      "diagnostics_Configuration_EnabledImageTypes\n",
      "diagnostics_Image-original_Hash\n",
      "diagnostics_Image-original_Dimensionality\n",
      "diagnostics_Image-original_Spacing\n",
      "diagnostics_Image-original_Size\n",
      "diagnostics_Image-original_Mean\n",
      "diagnostics_Image-original_Minimum\n",
      "diagnostics_Image-original_Maximum\n",
      "diagnostics_Mask-original_Hash\n",
      "diagnostics_Mask-original_Spacing\n",
      "diagnostics_Mask-original_Size\n",
      "diagnostics_Mask-original_BoundingBox\n",
      "diagnostics_Mask-original_VoxelNum\n",
      "diagnostics_Mask-original_VolumeNum\n",
      "diagnostics_Mask-original_CenterOfMassIndex\n",
      "diagnostics_Mask-original_CenterOfMass\n",
      "original_shape2D_Elongation\n",
      "original_shape2D_MajorAxisLength\n",
      "original_shape2D_MaximumDiameter\n",
      "original_shape2D_MeshSurface\n",
      "original_shape2D_MinorAxisLength\n",
      "original_shape2D_Perimeter\n",
      "original_shape2D_PerimeterSurfaceRatio\n",
      "original_shape2D_PixelSurface\n",
      "original_shape2D_Sphericity\n"
     ]
    }
   ],
   "source": [
    "im = sitk.GetImageFromArray(img)\n",
    "bw = sitk.GetImageFromArray(msk.astype(np.uint8))\n",
    "d_features = extractor.execute(im, bw)\n",
    "for k in d_features.keys(): #nine 2D shapes features\n",
    "    print(k)"
   ]
  },
  {
   "cell_type": "code",
   "execution_count": 7,
   "id": "308bddcb",
   "metadata": {},
   "outputs": [
    {
     "name": "stdout",
     "output_type": "stream",
     "text": [
      "130.0\n",
      "130\n"
     ]
    }
   ],
   "source": [
    "px_surf = d_features[\"original_shape2D_PixelSurface\"]\n",
    "print(px_surf) #pixel in ROI surface by the surfave of a singel pixel\n",
    "print(np.sum(msk))"
   ]
  },
  {
   "cell_type": "code",
   "execution_count": 8,
   "id": "e4078496",
   "metadata": {},
   "outputs": [
    {
     "name": "stdout",
     "output_type": "stream",
     "text": [
      "92.66904755831222\n",
      "87.012\n"
     ]
    }
   ],
   "source": [
    "perim = d_features[\"original_shape2D_Perimeter\"]\n",
    "print(perim)\n",
    "print(55.456 + 31.556)"
   ]
  },
  {
   "cell_type": "code",
   "execution_count": 9,
   "metadata": {},
   "outputs": [
    {
     "name": "stdout",
     "output_type": "stream",
     "text": [
      "0.7128388273716324\n",
      "0.7128388273716324\n"
     ]
    }
   ],
   "source": [
    "print(d_features[\"original_shape2D_PerimeterSurfaceRatio\"])\n",
    "print(perim / px_surf)"
   ]
  },
  {
   "cell_type": "code",
   "execution_count": 10,
   "id": "8ee22831",
   "metadata": {},
   "outputs": [
    {
     "name": "stdout",
     "output_type": "stream",
     "text": [
      "0.4361560577501651\n",
      "0.4361560577501651\n"
     ]
    }
   ],
   "source": [
    "print(d_features[\"original_shape2D_Sphericity\"])\n",
    "r = np.sqrt(px_surf / np.pi)\n",
    "print(2*np.pi*r /perim)"
   ]
  },
  {
   "cell_type": "code",
   "execution_count": 12,
   "id": "17a5eff9",
   "metadata": {},
   "outputs": [
    {
     "name": "stderr",
     "output_type": "stream",
     "text": [
      "100%|██████████| 1205/1205 [00:40<00:00, 30.09it/s]\n"
     ]
    }
   ],
   "source": [
    "from tqdm import tqdm\n",
    "\n",
    "sz = lbls.size\n",
    "feats = np.zeros([sz, 9])\n",
    "for n in tqdm(range(sz)):\n",
    "    im = imgs[n]\n",
    "    bw = sitk.GetImageFromArray((im<128).astype(np.uint8))\n",
    "    im = sitk.GetImageFromArray(im)\n",
    "    d_feats = extractor.execute(im, bw)\n",
    "    feats[n] = [\n",
    "        d_feats[\"original_shape2D_Elongation\"],\n",
    "        d_feats[\"original_shape2D_MajorAxisLength\"],\n",
    "        d_feats[\"original_shape2D_MaximumDiameter\"],\n",
    "        d_feats[\"original_shape2D_MeshSurface\"],\n",
    "        d_feats[\"original_shape2D_MinorAxisLength\"],\n",
    "        d_feats[\"original_shape2D_Perimeter\"],\n",
    "        d_feats[\"original_shape2D_PerimeterSurfaceRatio\"],\n",
    "        d_feats[\"original_shape2D_PixelSurface\"],\n",
    "        d_feats[\"original_shape2D_Sphericity\"],\n",
    "    ]"
   ]
  },
  {
   "cell_type": "code",
   "execution_count": 13,
   "id": "6560ccc5",
   "metadata": {},
   "outputs": [
    {
     "name": "stdout",
     "output_type": "stream",
     "text": [
      "[ 0.15693005 22.23592891 20.09975124 58.5         3.48948534 45.3137085\n",
      "  0.77459331 59.          0.59834719]\n"
     ]
    }
   ],
   "source": [
    "print(feats[0])"
   ]
  },
  {
   "cell_type": "code",
   "execution_count": 21,
   "id": "9c497627",
   "metadata": {},
   "outputs": [],
   "source": [
    "mn = np.mean(feats, axis = 0)\n",
    "sd = np.std(feats, axis = 0)\n",
    "zfeats = (feats - mn)/ sd\n",
    "\n",
    "def model(w, b, x):\n",
    "    val = (x @ w + b).flatten()\n",
    "    return 1/(1 + np.exp(-val))\n",
    "def loss(lbls, preds):\n",
    "    return np.mean(np.square(lbls -preds))\n",
    "def mdl_loss(lbls, w, b, x):\n",
    "    return loss(lbls, model(w, b, x))\n",
    "def calc_acc(lbls, preds):\n",
    "    acc = (lbls == 1) == (preds > 0.5)\n",
    "    return np.sum(acc) / lbls.size * 100\n"
   ]
  },
  {
   "cell_type": "code",
   "execution_count": 23,
   "id": "7c93b784",
   "metadata": {},
   "outputs": [
    {
     "name": "stderr",
     "output_type": "stream",
     "text": [
      "  0%|          | 0/2000 [00:00<?, ?it/s]"
     ]
    },
    {
     "name": "stderr",
     "output_type": "stream",
     "text": [
      "100%|██████████| 2000/2000 [00:11<00:00, 179.08it/s]"
     ]
    },
    {
     "name": "stdout",
     "output_type": "stream",
     "text": [
      "[0.015777362642682764, 98.42323651452281]\n",
      "[array([-0.31834254,  0.30409295,  0.42243738, -0.13717776, -0.31822132,\n",
      "       -0.37360128,  1.11707324, -0.13662609,  2.17314091]), 0.16463390716675574]\n"
     ]
    },
    {
     "name": "stderr",
     "output_type": "stream",
     "text": [
      "\n"
     ]
    }
   ],
   "source": [
    "sz_ft = 9\n",
    "w, b = np.ones(shape=[sz_ft]), 0\n",
    "delta = 1e-9\n",
    "lrn_rate = 1e-2\n",
    "losses = np.zeros(2000)\n",
    "accuracies = np.zeros(losses.size)\n",
    "for n in tqdm(range(losses.size)):\n",
    "    lv = mdl_loss(lbls, w, b, zfeats)\n",
    "    w_grad = np.zeros(shape=[sz_ft, 1])\n",
    "    for n_f in range(sz_ft):\n",
    "        wx = np.copy(w)\n",
    "        wx[n_f] += delta\n",
    "        w_grad[n_f] = (mdl_loss(lbls, wx, b, zfeats) - lv) / delta\n",
    "    b_grad = (mdl_loss(lbls, w, b+delta, zfeats) - lv)/delta\n",
    "    w = w - w_grad.flatten() * lrn_rate\n",
    "    b = b - b_grad * lrn_rate\n",
    "    losses[n] = lv\n",
    "    accuracies[n] = calc_acc(lbls, model(w,b,zfeats))\n",
    "print([lv, accuracies[-1]])\n",
    "print([w.flatten(),b])"
   ]
  },
  {
   "cell_type": "code",
   "execution_count": 24,
   "id": "576997bd",
   "metadata": {},
   "outputs": [
    {
     "data": {
      "text/plain": [
       "[<matplotlib.lines.Line2D at 0x22747fd96a0>]"
      ]
     },
     "execution_count": 24,
     "metadata": {},
     "output_type": "execute_result"
    },
    {
     "data": {
      "image/png": "[encoded data removed]",
      "text/plain": [
       "<Figure size 640x480 with 1 Axes>"
      ]
     },
     "metadata": {},
     "output_type": "display_data"
    }
   ],
   "source": [
    "_, ax = plt.subplots()\n",
    "ax.plot(losses, 'b-')\n",
    "ax.plot(accuracies / 100, 'g:')"
   ]
  },
  {
   "cell_type": "code",
   "execution_count": 25,
   "id": "29f8c989",
   "metadata": {},
   "outputs": [
    {
     "name": "stdout",
     "output_type": "stream",
     "text": [
      "52.199170124481334\n"
     ]
    }
   ],
   "source": [
    "rng = np.random.default_rng(0)\n",
    "preds = rng.uniform(size= lbls.shape)\n",
    "print(calc_acc(lbls, preds))"
   ]
  }
 ],
 "metadata": {
  "kernelspec": {
   "display_name": "radiomics",
   "language": "python",
   "name": "python3"
  },
  "language_info": {
   "codemirror_mode": {
    "name": "ipython",
    "version": 3
   },
   "file_extension": ".py",
   "mimetype": "text/x-python",
   "name": "python",
   "nbconvert_exporter": "python",
   "pygments_lexer": "ipython3",
   "version": "3.9.22"
  }
 },
 "nbformat": 4,
 "nbformat_minor": 5
}
